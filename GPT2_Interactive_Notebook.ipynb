{
 "cells": [
  {
   "cell_type": "markdown",
   "metadata": {
    "colab_type": "text",
    "id": "view-in-github"
   },
   "source": [
    "<a href=\"https://colab.research.google.com/github/affjljoo3581/GPT2/blob/master/GPT2_Interactive_Notebook.ipynb\" target=\"_parent\"><img src=\"https://colab.research.google.com/assets/colab-badge.svg\" alt=\"Open In Colab\"/></a>"
   ]
  },
  {
   "cell_type": "markdown",
   "metadata": {
    "colab_type": "text",
    "id": "BYbOdA3ENjFx"
   },
   "source": [
    "# GPT2 Interactive Notebook\n",
    "\n",
    "## Introduction\n",
    "Welcome! In this notebook, you can play your own trained GPT2 model. This notebook is based on [affjljoo3581/GPT2](https://github.com/affjljoo3581/GPT2). You can play GPT2 model which is trained by [affjljoo3581/GPT2](https://github.com/affjljoo3581/GPT2) in this notebook."
   ]
  },
  {
   "cell_type": "markdown",
   "metadata": {
    "colab_type": "text",
    "id": "ZimL206uNtNP"
   },
   "source": [
    "## Preparation\n",
    "\n",
    "First of all, you need to set *Runtime Type* to **GPU**. Let's check the current GPU device. We recommend to run this notebook on **Telsa T4** or **Tesla P100**."
   ]
  },
  {
   "cell_type": "code",
   "execution_count": null,
   "metadata": {
    "colab": {},
    "colab_type": "code",
    "id": "bbf0NoKhNBJp"
   },
   "outputs": [],
   "source": [
    "import warnings\n",
    "warnings.filterwarnings('ignore')\n",
    "\n",
    "import IPython, torch\n",
    "IPython.display.HTML(f'<p style=\"font-size: 12pt\">Current GPU: <b>{torch.cuda.get_device_name()}</b></p>')"
   ]
  },
  {
   "cell_type": "markdown",
   "metadata": {
    "colab_type": "text",
    "id": "tpL5PhnkTjjZ"
   },
   "source": [
    "Next, clone GPT2 repository from github. [affjljoo3581/GPT2](https://github.com/affjljoo3581/GPT2) contains not only training, but also text generation and model evaluation."
   ]
  },
  {
   "cell_type": "code",
   "execution_count": 3,
   "metadata": {
    "colab": {},
    "colab_type": "code",
    "id": "lv6adDKVk44o"
   },
   "outputs": [],
   "source": [
    "!rm -rf GPT2\n",
    "!git clone --quiet https://github.com/affjljoo3581/GPT2"
   ]
  },
  {
   "cell_type": "markdown",
   "metadata": {
    "colab_type": "text",
    "id": "KJrTpBsHUJx4"
   },
   "source": [
    "Before playing with GPT2, you need to download trained model file and vocabulary file. Moreover, to evaluate the model, an evaluation corpus file is needed. This notebook supports through [Google Cloud Storage](https://cloud.google.com/storage), so upload the required files to your own storage and specify them to the belows."
   ]
  },
  {
   "cell_type": "code",
   "execution_count": null,
   "metadata": {
    "colab": {},
    "colab_type": "code",
    "id": "TD1EYuW2k9eI"
   },
   "outputs": [],
   "source": [
    "#@title Download resources from Google Cloud Storage\n",
    "\n",
    "model = 'gs://my-bucket/my-model' #@param {type:\"string\"}\n",
    "vocab = 'gs://my-bucket/my-vocab' #@param {type:\"string\"}\n",
    "eval_corpus = 'gs://my-bucket/my-eval-corpus' #@param {type:\"string\"}\n",
    "\n",
    "!gcloud auth login\n",
    "!gsutil -q cp $model model.pth\n",
    "!gsutil -q cp $vocab vocab.txt\n",
    "!gsutil -q cp $eval_corpus corpus.txt"
   ]
  },
  {
   "cell_type": "markdown",
   "metadata": {
    "colab_type": "text",
    "id": "q3k2wnIHWGWz"
   },
   "source": [
    "Finally, configure the details of GPT2 model."
   ]
  },
  {
   "cell_type": "code",
   "execution_count": 6,
   "metadata": {
    "cellView": "form",
    "colab": {},
    "colab_type": "code",
    "id": "itZ4rm4xQiIY"
   },
   "outputs": [],
   "source": [
    "#@title Model Configuration\n",
    "seq_len = 128 #@param {type:\"integer\"}\n",
    "layers = 24 #@param {type:\"integer\"}\n",
    "heads = 16 #@param {type:\"integer\"}\n",
    "dims = 1024 #@param {type:\"integer\"}\n",
    "rate = 4 #@param {type:\"integer\"}"
   ]
  },
  {
   "cell_type": "markdown",
   "metadata": {
    "colab_type": "text",
    "id": "jWbfBe-zYFpK"
   },
   "source": [
    "* `seq_len` : maximum sequence length\n",
    "* `layers` : number of transformer layers\n",
    "* `heads` : number of multi-heads in attention layer\n",
    "* `dims` : dimension of representation in each layer\n",
    "* `rate` : increase rate of dimensionality in bottleneck "
   ]
  },
  {
   "cell_type": "markdown",
   "metadata": {
    "colab_type": "text",
    "id": "W5mpBWPtQVpJ"
   },
   "source": [
    "## Generate Sentences!\n",
    "According to [The Curious Case of Neural Text Degeneration](https://arxiv.org/pdf/1904.09751.pdf), ***Top-k Sampling*** — a popular sampling procedure — is problematic for both the presence of flat distributions and of peaked ones. The authors claimed that there is a risk of generating bland or generic text in some contexts with small $k$. Also,  the top-k vocabulary can include inappropriate candidates with large $k$. So they proposed ***Nucleus Sampling***. In nucleus sampling, the candidates consist of top-p tokens, rather than top-k ones. That is, the highest probability tokens whose cumulative probability mass exceeds the pre-chosen threshold $p$ would be selected.\n",
    "\n",
    "In this notebook, *nucleus sampling* will be used in text generation. As mentioned above, the hyperparameter `nucleus_prob` which is the threshold $p$ is required."
   ]
  },
  {
   "cell_type": "code",
   "execution_count": null,
   "metadata": {
    "colab": {},
    "colab_type": "code",
    "id": "d5SpOEralSZY"
   },
   "outputs": [],
   "source": [
    "#@title Generation Options\n",
    "nucleus_prob = 0.8 #@param {type:\"slider\", min:0, max:1, step:0.01}\n",
    "\n",
    "import IPython\n",
    "display(IPython.display.HTML('''<style> div.output_text pre {\n",
    "    white-space: pre-line; max-width: 1000px; display: inline-block;\n",
    "} </style>'''))\n",
    "\n",
    "!export PYTHONPATH=GPT2/src; python -m gpt2 generate \\\n",
    "        --vocab_path    vocab.txt \\\n",
    "        --model_path    model.pth \\\n",
    "        --seq_len       $seq_len \\\n",
    "        --layers        $layers \\\n",
    "        --heads         $heads \\\n",
    "        --dims          $dims \\\n",
    "        --rate          $rate \\\n",
    "        --nucleus_prob  $nucleus_prob \\\n",
    "        --use_gpu"
   ]
  },
  {
   "cell_type": "markdown",
   "metadata": {
    "colab_type": "text",
    "id": "V3PcWHy8QZWn"
   },
   "source": [
    "## Evaluate Model!\n",
    "After training the model, you may want to evaluate your own model performance. The most popular and objective method to evaluate the model is to calculate metrics with test dataset, which is not used during training. First, let's check the number of sequences in evaluation corpus dataset.\n"
   ]
  },
  {
   "cell_type": "code",
   "execution_count": null,
   "metadata": {
    "colab": {},
    "colab_type": "code",
    "id": "e2aw8qJpq1nd"
   },
   "outputs": [],
   "source": [
    "import IPython\n",
    "lines = !wc -l corpus.txt | awk '{print $1}'\n",
    "IPython.display.HTML(f'<p style=\"font-size: 12pt\">Total Evaluation Sequences: <b>{lines[0]}</b></p>')"
   ]
  },
  {
   "cell_type": "markdown",
   "metadata": {
    "colab_type": "text",
    "id": "43NMXzrG4ioG"
   },
   "source": [
    "To improve performance, we will use batch in evaluation. That is, the number of total iterations should be `total sequences / batch size`. Usually, larger batch size leads higher efficiency but too large one occurs memory error. So, it is important to decide a proper batch size."
   ]
  },
  {
   "cell_type": "code",
   "execution_count": null,
   "metadata": {
    "colab": {},
    "colab_type": "code",
    "id": "qRcH5pKMngBR"
   },
   "outputs": [],
   "source": [
    "#@title Evaluation Options\n",
    "%%time\n",
    "batch_eval = 256 #@param {type: \"integer\"}\n",
    "total_steps = 100 #@param {type: \"integer\"}\n",
    "\n",
    "!export PYTHONPATH=GPT2/src; python -m gpt2 evaluate \\\n",
    "        --model_path    model.pth \\\n",
    "        --eval_corpus   corpus.txt \\\n",
    "        --vocab_path    vocab.txt \\\n",
    "        --seq_len       $seq_len \\\n",
    "        --layers        $layers \\\n",
    "        --heads         $heads \\\n",
    "        --dims          $dims \\\n",
    "        --rate          $rate \\\n",
    "        --batch_eval    $batch_eval \\\n",
    "        --total_steps   $total_steps \\\n",
    "        --use_gpu"
   ]
  }
 ],
 "metadata": {
  "accelerator": "GPU",
  "colab": {
   "authorship_tag": "ABX9TyPmJp0XvWIt2/crASe5lmyP",
   "collapsed_sections": [],
   "include_colab_link": true,
   "name": "GPT2 Interactive Notebook",
   "provenance": []
  },
  "kernelspec": {
   "display_name": "Python 3 (ipykernel)",
   "language": "python",
   "name": "python3"
  },
  "language_info": {
   "codemirror_mode": {
    "name": "ipython",
    "version": 3
   },
   "file_extension": ".py",
   "mimetype": "text/x-python",
   "name": "python",
   "nbconvert_exporter": "python",
   "pygments_lexer": "ipython3",
   "version": "3.12.9"
  }
 },
 "nbformat": 4,
 "nbformat_minor": 4
}
